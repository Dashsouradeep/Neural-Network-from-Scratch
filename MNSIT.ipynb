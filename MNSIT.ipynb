{
 "cells": [
  {
   "cell_type": "code",
   "execution_count": 1,
   "metadata": {},
   "outputs": [],
   "source": [
    "import numpy as np\n",
    "import matplotlib.pyplot as plt\n",
    "import pandas as pd\n"
   ]
  },
  {
   "cell_type": "code",
   "execution_count": 2,
   "metadata": {},
   "outputs": [
    {
     "data": {
      "text/plain": [
       "(42000, 785)"
      ]
     },
     "execution_count": 2,
     "metadata": {},
     "output_type": "execute_result"
    }
   ],
   "source": [
    "data=pd.read_csv(\"train.csv\")\n",
    "#data.head()\n",
    "data.shape"
   ]
  },
  {
   "cell_type": "code",
   "execution_count": 3,
   "metadata": {},
   "outputs": [
    {
     "name": "stdout",
     "output_type": "stream",
     "text": [
      "[[3 0 0 ... 0 0 0]\n",
      " [0 0 0 ... 0 0 0]\n",
      " [9 0 0 ... 0 0 0]\n",
      " ...\n",
      " [3 0 0 ... 0 0 0]\n",
      " [1 0 0 ... 0 0 0]\n",
      " [7 0 0 ... 0 0 0]]\n"
     ]
    }
   ],
   "source": [
    "data=np.array(data)\n",
    "m,n=data.shape\n",
    "\n",
    "np.random.shuffle(data)\n",
    "print(data)"
   ]
  },
  {
   "cell_type": "code",
   "execution_count": 4,
   "metadata": {},
   "outputs": [],
   "source": [
    "data_dev=data[0:1000].T\n",
    "\n",
    "Y_dev=data_dev[0]\n",
    "X_dev=data_dev[1:n]\n",
    "X_dev=X_dev/255\n"
   ]
  },
  {
   "cell_type": "code",
   "execution_count": 5,
   "metadata": {},
   "outputs": [],
   "source": [
    "data_train=data[1000:m].T\n",
    "\n",
    "Y_train=data_train[0]\n",
    "X_train=data_train[1:n]\n",
    "\n",
    "X_train = X_train / 255.\n",
    "_,m_train = X_train.shape\n"
   ]
  },
  {
   "cell_type": "code",
   "execution_count": 6,
   "metadata": {},
   "outputs": [],
   "source": [
    "def init_params():\n",
    "    W1 = np.random.rand(10, 784) - 0.5\n",
    "    b1 = np.random.rand(10, 1) - 0.5\n",
    "    W2 = np.random.rand(10, 10) - 0.5\n",
    "    b2 = np.random.rand(10, 1) - 0.5\n",
    "    return W1, b1, W2, b2\n",
    "\n",
    "def ReLU(Z):\n",
    "    return np.maximum(Z, 0)\n",
    "\n",
    "def softmax(Z):\n",
    "    A = np.exp(Z) / sum(np.exp(Z))\n",
    "    return A\n",
    "    \n",
    "def forward_prop(W1, b1, W2, b2, X):\n",
    "    Z1 = W1.dot(X) + b1\n",
    "    A1 = ReLU(Z1)\n",
    "    Z2 = W2.dot(A1) + b2\n",
    "    A2 = softmax(Z2)\n",
    "    return Z1, A1, Z2, A2\n",
    "\n",
    "def ReLU_deriv(Z):\n",
    "    return Z > 0\n",
    "\n",
    "def one_hot(Y):\n",
    "    one_hot_Y = np.zeros((Y.size, Y.max() + 1))\n",
    "    one_hot_Y[np.arange(Y.size), Y] = 1\n",
    "    one_hot_Y = one_hot_Y.T\n",
    "    return one_hot_Y\n",
    "\n",
    "def backward_prop(Z1, A1, Z2, A2, W1, W2, X, Y):\n",
    "    one_hot_Y = one_hot(Y)\n",
    "    dZ2 = A2 - one_hot_Y\n",
    "    dW2 = 1 / m * dZ2.dot(A1.T)\n",
    "    db2 = 1 / m * np.sum(dZ2)\n",
    "    dZ1 = W2.T.dot(dZ2) * ReLU_deriv(Z1)\n",
    "    dW1 = 1 / m * dZ1.dot(X.T)\n",
    "    db1 = 1 / m * np.sum(dZ1)\n",
    "    return dW1, db1, dW2, db2\n",
    "\n",
    "def update_params(W1, b1, W2, b2, dW1, db1, dW2, db2, alpha):\n",
    "    W1 = W1 - alpha * dW1\n",
    "    b1 = b1 - alpha * db1    \n",
    "    W2 = W2 - alpha * dW2  \n",
    "    b2 = b2 - alpha * db2    \n",
    "    return W1, b1, W2, b2"
   ]
  },
  {
   "cell_type": "code",
   "execution_count": 7,
   "metadata": {},
   "outputs": [],
   "source": [
    "def get_predictions(A2):\n",
    "    return np.argmax(A2, 0)\n",
    "\n",
    "def get_accuracy(predictions, Y):\n",
    "    print(predictions, Y)\n",
    "    return np.sum(predictions == Y) / Y.size\n",
    "\n",
    "def gradient_descent(X, Y, alpha, iterations):\n",
    "    W1, b1, W2, b2 = init_params()\n",
    "    for i in range(iterations):\n",
    "        Z1, A1, Z2, A2 = forward_prop(W1, b1, W2, b2, X)\n",
    "        dW1, db1, dW2, db2 = backward_prop(Z1, A1, Z2, A2, W1, W2, X, Y)\n",
    "        W1, b1, W2, b2 = update_params(W1, b1, W2, b2, dW1, db1, dW2, db2, alpha)\n",
    "        if i % 10 == 0:\n",
    "            print(\"Iteration: \", i)\n",
    "            predictions = get_predictions(A2)\n",
    "            print(get_accuracy(predictions, Y))\n",
    "    return W1, b1, W2, b2"
   ]
  },
  {
   "cell_type": "code",
   "execution_count": 8,
   "metadata": {},
   "outputs": [
    {
     "name": "stdout",
     "output_type": "stream",
     "text": [
      "Iteration:  0\n",
      "[9 5 9 ... 9 9 9] [4 8 7 ... 3 1 7]\n",
      "0.10429268292682926\n",
      "Iteration:  10\n",
      "[6 5 9 ... 9 9 9] [4 8 7 ... 3 1 7]\n",
      "0.16329268292682927\n",
      "Iteration:  20\n",
      "[6 6 9 ... 3 9 9] [4 8 7 ... 3 1 7]\n",
      "0.24321951219512195\n",
      "Iteration:  30\n",
      "[6 6 9 ... 3 9 9] [4 8 7 ... 3 1 7]\n",
      "0.338609756097561\n",
      "Iteration:  40\n",
      "[6 6 7 ... 3 1 7] [4 8 7 ... 3 1 7]\n",
      "0.4320487804878049\n",
      "Iteration:  50\n",
      "[6 6 7 ... 3 1 7] [4 8 7 ... 3 1 7]\n",
      "0.49878048780487805\n",
      "Iteration:  60\n",
      "[4 6 7 ... 3 1 7] [4 8 7 ... 3 1 7]\n",
      "0.5510487804878049\n",
      "Iteration:  70\n",
      "[4 6 7 ... 3 1 7] [4 8 7 ... 3 1 7]\n",
      "0.589170731707317\n",
      "Iteration:  80\n",
      "[4 6 7 ... 3 1 7] [4 8 7 ... 3 1 7]\n",
      "0.6182926829268293\n",
      "Iteration:  90\n",
      "[4 6 7 ... 3 1 7] [4 8 7 ... 3 1 7]\n",
      "0.6432682926829268\n",
      "Iteration:  100\n",
      "[4 8 7 ... 3 1 7] [4 8 7 ... 3 1 7]\n",
      "0.6633658536585366\n",
      "Iteration:  110\n",
      "[4 8 7 ... 3 1 7] [4 8 7 ... 3 1 7]\n",
      "0.6800975609756098\n",
      "Iteration:  120\n",
      "[4 8 7 ... 3 1 7] [4 8 7 ... 3 1 7]\n",
      "0.6942926829268292\n",
      "Iteration:  130\n",
      "[4 8 7 ... 3 1 7] [4 8 7 ... 3 1 7]\n",
      "0.7067073170731707\n",
      "Iteration:  140\n",
      "[4 8 7 ... 3 1 7] [4 8 7 ... 3 1 7]\n",
      "0.7162926829268292\n",
      "Iteration:  150\n",
      "[4 8 7 ... 3 1 7] [4 8 7 ... 3 1 7]\n",
      "0.7263658536585366\n",
      "Iteration:  160\n",
      "[4 8 7 ... 3 1 7] [4 8 7 ... 3 1 7]\n",
      "0.7344146341463414\n",
      "Iteration:  170\n",
      "[4 8 7 ... 3 1 7] [4 8 7 ... 3 1 7]\n",
      "0.7416585365853658\n",
      "Iteration:  180\n",
      "[4 8 7 ... 3 1 7] [4 8 7 ... 3 1 7]\n",
      "0.7487560975609756\n",
      "Iteration:  190\n",
      "[4 8 7 ... 3 1 7] [4 8 7 ... 3 1 7]\n",
      "0.7551951219512195\n",
      "Iteration:  200\n",
      "[4 8 7 ... 3 1 7] [4 8 7 ... 3 1 7]\n",
      "0.7615121951219512\n",
      "Iteration:  210\n",
      "[4 8 7 ... 3 1 7] [4 8 7 ... 3 1 7]\n",
      "0.7670731707317073\n",
      "Iteration:  220\n",
      "[4 8 7 ... 3 1 7] [4 8 7 ... 3 1 7]\n",
      "0.7719512195121951\n",
      "Iteration:  230\n",
      "[4 8 7 ... 3 1 7] [4 8 7 ... 3 1 7]\n",
      "0.7754146341463415\n",
      "Iteration:  240\n",
      "[4 8 7 ... 3 1 7] [4 8 7 ... 3 1 7]\n",
      "0.7801219512195122\n",
      "Iteration:  250\n",
      "[4 8 7 ... 3 1 7] [4 8 7 ... 3 1 7]\n",
      "0.7844878048780488\n",
      "Iteration:  260\n",
      "[4 8 7 ... 3 1 7] [4 8 7 ... 3 1 7]\n",
      "0.7886829268292683\n",
      "Iteration:  270\n",
      "[4 8 7 ... 3 1 7] [4 8 7 ... 3 1 7]\n",
      "0.7923658536585366\n",
      "Iteration:  280\n",
      "[4 8 7 ... 3 1 7] [4 8 7 ... 3 1 7]\n",
      "0.7957073170731708\n",
      "Iteration:  290\n",
      "[4 8 7 ... 3 1 7] [4 8 7 ... 3 1 7]\n",
      "0.7987560975609757\n",
      "Iteration:  300\n",
      "[4 8 7 ... 3 1 7] [4 8 7 ... 3 1 7]\n",
      "0.8014634146341464\n",
      "Iteration:  310\n",
      "[4 8 7 ... 3 1 7] [4 8 7 ... 3 1 7]\n",
      "0.804219512195122\n",
      "Iteration:  320\n",
      "[4 8 7 ... 3 1 7] [4 8 7 ... 3 1 7]\n",
      "0.8067560975609757\n",
      "Iteration:  330\n",
      "[4 8 7 ... 3 1 7] [4 8 7 ... 3 1 7]\n",
      "0.8091951219512196\n",
      "Iteration:  340\n",
      "[4 8 7 ... 3 1 7] [4 8 7 ... 3 1 7]\n",
      "0.8115853658536586\n",
      "Iteration:  350\n",
      "[4 8 7 ... 3 1 7] [4 8 7 ... 3 1 7]\n",
      "0.8140731707317073\n",
      "Iteration:  360\n",
      "[4 8 7 ... 3 1 7] [4 8 7 ... 3 1 7]\n",
      "0.8162682926829268\n",
      "Iteration:  370\n",
      "[4 8 7 ... 3 1 7] [4 8 7 ... 3 1 7]\n",
      "0.8185121951219512\n",
      "Iteration:  380\n",
      "[4 8 7 ... 3 1 7] [4 8 7 ... 3 1 7]\n",
      "0.8210975609756097\n",
      "Iteration:  390\n",
      "[4 8 7 ... 3 1 7] [4 8 7 ... 3 1 7]\n",
      "0.8233170731707317\n",
      "Iteration:  400\n",
      "[4 8 7 ... 3 1 7] [4 8 7 ... 3 1 7]\n",
      "0.8250731707317073\n",
      "Iteration:  410\n",
      "[4 8 7 ... 3 1 7] [4 8 7 ... 3 1 7]\n",
      "0.8273414634146341\n",
      "Iteration:  420\n",
      "[4 8 7 ... 3 1 7] [4 8 7 ... 3 1 7]\n",
      "0.829780487804878\n",
      "Iteration:  430\n",
      "[4 8 7 ... 3 1 7] [4 8 7 ... 3 1 7]\n",
      "0.8315609756097561\n",
      "Iteration:  440\n",
      "[4 8 7 ... 3 1 7] [4 8 7 ... 3 1 7]\n",
      "0.833390243902439\n",
      "Iteration:  450\n",
      "[4 8 7 ... 3 1 7] [4 8 7 ... 3 1 7]\n",
      "0.8355121951219512\n",
      "Iteration:  460\n",
      "[4 8 7 ... 3 1 7] [4 8 7 ... 3 1 7]\n",
      "0.8371951219512195\n",
      "Iteration:  470\n",
      "[4 8 7 ... 3 1 7] [4 8 7 ... 3 1 7]\n",
      "0.8389268292682927\n",
      "Iteration:  480\n",
      "[4 8 7 ... 3 1 7] [4 8 7 ... 3 1 7]\n",
      "0.8402682926829268\n",
      "Iteration:  490\n",
      "[4 8 7 ... 3 1 7] [4 8 7 ... 3 1 7]\n",
      "0.8416585365853658\n"
     ]
    }
   ],
   "source": [
    "W1, b1, W2, b2 = gradient_descent(X_train, Y_train, 0.10, 500)"
   ]
  },
  {
   "cell_type": "code",
   "execution_count": 9,
   "metadata": {},
   "outputs": [],
   "source": [
    "def make_predictions(X, W1, b1, W2, b2):\n",
    "    _, _, _, A2 = forward_prop(W1, b1, W2, b2, X)\n",
    "    predictions = get_predictions(A2)\n",
    "    return predictions\n",
    "\n",
    "def test_prediction(index, W1, b1, W2, b2):\n",
    "    current_image = X_train[:, index, None]\n",
    "    prediction = make_predictions(X_train[:, index, None], W1, b1, W2, b2)\n",
    "    label = Y_train[index]\n",
    "    print(\"Prediction: \", prediction)\n",
    "    print(\"Label: \", label)\n",
    "    \n",
    "    current_image = current_image.reshape((28, 28)) * 255\n",
    "    plt.gray()\n",
    "    plt.imshow(current_image, interpolation='nearest')\n",
    "    plt.show()"
   ]
  },
  {
   "cell_type": "code",
   "execution_count": 10,
   "metadata": {},
   "outputs": [
    {
     "name": "stdout",
     "output_type": "stream",
     "text": [
      "Prediction:  [4]\n",
      "Label:  4\n"
     ]
    },
    {
     "data": {
      "image/png": "[encoded data removed]",
      "text/plain": [
       "<Figure size 640x480 with 1 Axes>"
      ]
     },
     "metadata": {},
     "output_type": "display_data"
    },
    {
     "name": "stdout",
     "output_type": "stream",
     "text": [
      "Prediction:  [8]\n",
      "Label:  8\n"
     ]
    },
    {
     "data": {
      "image/png": "[encoded data removed]",
      "text/plain": [
       "<Figure size 640x480 with 1 Axes>"
      ]
     },
     "metadata": {},
     "output_type": "display_data"
    },
    {
     "name": "stdout",
     "output_type": "stream",
     "text": [
      "Prediction:  [7]\n",
      "Label:  7\n"
     ]
    },
    {
     "data": {
      "image/png": "[encoded data removed]",
      "text/plain": [
       "<Figure size 640x480 with 1 Axes>"
      ]
     },
     "metadata": {},
     "output_type": "display_data"
    },
    {
     "name": "stdout",
     "output_type": "stream",
     "text": [
      "Prediction:  [8]\n",
      "Label:  8\n"
     ]
    },
    {
     "data": {
      "image/png": "[encoded data removed]",
      "text/plain": [
       "<Figure size 640x480 with 1 Axes>"
      ]
     },
     "metadata": {},
     "output_type": "display_data"
    }
   ],
   "source": [
    "test_prediction(0, W1, b1, W2, b2)\n",
    "test_prediction(1, W1, b1, W2, b2)\n",
    "test_prediction(2, W1, b1, W2, b2)\n",
    "test_prediction(3, W1, b1, W2, b2)"
   ]
  }
 ],
 "metadata": {
  "kernelspec": {
   "display_name": "Python 3",
   "language": "python",
   "name": "python3"
  },
  "language_info": {
   "codemirror_mode": {
    "name": "ipython",
    "version": 3
   },
   "file_extension": ".py",
   "mimetype": "text/x-python",
   "name": "python",
   "nbconvert_exporter": "python",
   "pygments_lexer": "ipython3",
   "version": "3.12.9"
  }
 },
 "nbformat": 4,
 "nbformat_minor": 2
}
